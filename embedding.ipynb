{
 "cells": [
  {
   "cell_type": "code",
   "execution_count": 4,
   "metadata": {
    "pycharm": {
     "is_executing": false
    }
   },
   "outputs": [],
   "source": [
    "import gensim\n",
    "\n",
    "from nltk.data import find\n",
    "import nltk"
   ]
  },
  {
   "cell_type": "code",
   "execution_count": null,
   "metadata": {
    "pycharm": {
     "name": "#%%\n"
    }
   },
   "outputs": [],
   "source": [
    "model = gensim.models.KeyedVectors.load_word2vec_format('GoogleNews-vectors-negative300.bin.gz', binary = True)"
   ]
  },
  {
   "cell_type": "code",
   "execution_count": 30,
   "metadata": {},
   "outputs": [],
   "source": [
    "import numpy as np\n",
    "from ipywidgets import interact"
   ]
  },
  {
   "cell_type": "code",
   "execution_count": null,
   "metadata": {
    "pycharm": {
     "name": "#%%\n"
    }
   },
   "outputs": [],
   "source": [
    "model.save('gnews.embedding')"
   ]
  },
  {
   "cell_type": "code",
   "execution_count": 5,
   "metadata": {
    "pycharm": {
     "is_executing": false,
     "name": "#%%\n"
    }
   },
   "outputs": [],
   "source": [
    "new_model = gensim.models.KeyedVectors.load('gnews.embedding')"
   ]
  },
  {
   "cell_type": "code",
   "execution_count": 6,
   "metadata": {},
   "outputs": [],
   "source": [
    "import nltk"
   ]
  },
  {
   "cell_type": "code",
   "execution_count": 7,
   "metadata": {},
   "outputs": [
    {
     "name": "stderr",
     "output_type": "stream",
     "text": [
      "[nltk_data] Downloading package stopwords to\n",
      "[nltk_data]     /Users/trevnels/nltk_data...\n",
      "[nltk_data]   Package stopwords is already up-to-date!\n"
     ]
    },
    {
     "data": {
      "text/plain": [
       "True"
      ]
     },
     "execution_count": 7,
     "metadata": {},
     "output_type": "execute_result"
    }
   ],
   "source": [
    "nltk.download('stopwords')"
   ]
  },
  {
   "cell_type": "code",
   "execution_count": 8,
   "metadata": {},
   "outputs": [],
   "source": [
    "from nltk.corpus import stopwords\n",
    "stopwords = set(stopwords.words('english'))"
   ]
  },
  {
   "cell_type": "code",
   "execution_count": 9,
   "metadata": {
    "pycharm": {
     "is_executing": true,
     "name": "#%%\n"
    }
   },
   "outputs": [],
   "source": [
    "import pandas as pd\n",
    "import re\n",
    "from nltk.tokenize import word_tokenize \n",
    "\n",
    "pad_to_length = 32\n",
    "def split_sanitize(sentence):\n",
    "    sentence = str(sentence)\n",
    "    tokens = word_tokenize(sentence)\n",
    "    filtered_sentence = [w for w in tokens if not w.lower() in stopwords]\n",
    "    filtered_sentence += [\"\"] * (pad_to_length - len(filtered_sentence))\n",
    "    return filtered_sentence[:pad_to_length]\n",
    "\n",
    "def embed_tokens(tokens):\n",
    "    embedding = []\n",
    "    for token in tokens:\n",
    "        if token in new_model:\n",
    "            embedding.extend(new_model[token])\n",
    "        elif token.lower() in new_model:\n",
    "            embedding.extend(new_model[token.lower()])\n",
    "    embedding.extend((pad_to_length - len(embedding)//300) * ([0.0,] * 300))\n",
    "    return embedding\n",
    "\n",
    "spam = pd.read_csv('data/spam.csv', encoding = \"utf-8\")\n",
    "notspam = pd.read_csv('data/notspam.csv', encoding = \"latin\")\n",
    "\n",
    "X = []\n",
    "y = []\n",
    "\n",
    "for tweet in spam.iloc[0:2500, 7]:\n",
    "    # print(str(tweet))\n",
    "    embedded = embed_tokens(split_sanitize(str(tweet)))\n",
    "    \n",
    "    if len(embedded) != 9600:\n",
    "        print(embedded)\n",
    "        break\n",
    "    \n",
    "    X.append(embedded)\n",
    "    y.append(1.0)\n",
    "    \n",
    "for tweet in notspam.iloc[0:2500, 5]:\n",
    "    # print(str(tweet))\n",
    "    embedded = embed_tokens(split_sanitize(str(tweet)))\n",
    "    \n",
    "    X.append(embedded)\n",
    "    y.append(0.0)\n",
    "    \n",
    "    "
   ]
  },
  {
   "cell_type": "code",
   "execution_count": null,
   "metadata": {
    "pycharm": {
     "name": "#%%\n"
    }
   },
   "outputs": [],
   "source": [
    "from sklearn.neural_network import MLPRegressor\n",
    "\n",
    "clf = MLPRegressor(solver='lbfgs', alpha=1e-5, hidden_layer_sizes=(20, 10), random_state=1)\n",
    "\n",
    "clf.fit(X,y)\n",
    "\n",
    "\n"
   ]
  }
 ],
 "metadata": {
  "kernelspec": {
   "display_name": "Python 3",
   "language": "python",
   "name": "python3"
  },
  "language_info": {
   "codemirror_mode": {
    "name": "ipython",
    "version": 3
   },
   "file_extension": ".py",
   "mimetype": "text/x-python",
   "name": "python",
   "nbconvert_exporter": "python",
   "pygments_lexer": "ipython3",
   "version": "3.7.5"
  },
  "pycharm": {
   "stem_cell": {
    "cell_type": "raw",
    "source": [],
    "metadata": {
     "collapsed": false
    }
   }
  }
 },
 "nbformat": 4,
 "nbformat_minor": 1
}